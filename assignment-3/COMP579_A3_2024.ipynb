{
 "cells": [
  {
   "cell_type": "markdown",
   "metadata": {
    "id": "ALnFQQHn1QME"
   },
   "source": [
    "# COMP579 Assignment 3\n",
    "\n",
    "**Value-based methods with linear function approximation [40 points]**"
   ]
  },
  {
   "cell_type": "code",
   "execution_count": 1,
   "metadata": {
    "id": "VlHR8XcY483f"
   },
   "outputs": [],
   "source": [
    "import os\n",
    "import random\n",
    "import gymnasium as gym\n",
    "import numpy as np\n",
    "import pandas as pd\n",
    "\n",
    "from multiprocessing import Pool, cpu_count\n",
    "import matplotlib.pyplot as plt\n",
    "from itertools import product\n",
    "from tqdm.auto import tqdm\n",
    "import seaborn as sns\n",
    "\n",
    "import multiprocessing as mp"
   ]
  },
  {
   "cell_type": "code",
   "execution_count": 2,
   "metadata": {},
   "outputs": [],
   "source": [
    "# Helper functions\n",
    "def one_hot(a, num_classes):\n",
    "  return np.squeeze(np.eye(num_classes)[a.reshape(-1)])\n",
    "\n",
    "\n",
    "def softmax(x, temp=1.0):\n",
    "    \"\"\"\n",
    "    Compute the softmax of each element along an axis of X with temperature adjustment.\n",
    "    When temp is 0, the function returns an argmax-like result.\n",
    "\n",
    "    Parameters:\n",
    "    x (array_like): Input data.\n",
    "    temp (float, optional): Temperature parameter to adjust the sharpness of softmax. Default is 1.0.\n",
    "\n",
    "    Returns:\n",
    "    array_like: Softmax-transformed output with the same shape as input x.\n",
    "    \"\"\"\n",
    "    if temp == 0:\n",
    "        # Simulate argmax behavior for zero temperature\n",
    "        return np.equal(x, np.max(x, axis=-1, keepdims=True)).astype(float)\n",
    "    else:\n",
    "        # Adjust for temperature and improve numerical stability in one step\n",
    "        z = (x - np.max(x, axis=-1, keepdims=True)) / temp\n",
    "        top = np.exp(z)\n",
    "        bottom = np.sum(top, axis=-1, keepdims=True)\n",
    "        return top / bottom"
   ]
  },
  {
   "cell_type": "markdown",
   "metadata": {},
   "source": [
    "### Q Learner and Expected SARSA\n",
    "Implement Q-learning and Expected SARSA for both `MountainCar-v0` and `CartPole-v1` environments from the Gym suite using the following guidelines:\n",
    "\n",
    "- Use a linear function approximation for $Q$, that is, if $x$ is a vector representing the state and $\\theta$ a is the action vector, use $$Q(x, a) = \\sum^{d}_{i=1} θ_{a,i} x_i$$ where $\\theta$ are the parameters of the $Q$-function you\n",
    "need to learn, $d$ is the dimension of $x$ and $a \\in \\{1, \\cdots , m\\}$ is a discrete action."
   ]
  },
  {
   "cell_type": "code",
   "execution_count": 3,
   "metadata": {},
   "outputs": [],
   "source": [
    "class QLearner:\n",
    "    \"\"\"\n",
    "    A class representing the Q-learning algorithm.\n",
    "\n",
    "    Attributes:\n",
    "    env (gym.Env): The environment to interact with.\n",
    "    alpha (float): The learning rate.\n",
    "    gamma (float): The discount factor for future rewards.\n",
    "    Q (numpy.ndarray): The Q-table for storing state-action values.\n",
    "\n",
    "    Methods:\n",
    "    select_action(s, greedy=False): Selects an action based on the current policy.\n",
    "    update(s, a, r, s_prime, a_prime, done): Updates the Q-table based on the observed transition.\n",
    "    \"\"\"\n",
    "\n",
    "    def __init__(self, env, alpha, gamma, epsilon, input_size, action_size):\n",
    "        \"\"\"\n",
    "        Initializes the Q-learning agent.\n",
    "\n",
    "        Parameters:\n",
    "            env (gym.Env): The environment to interact with.\n",
    "            alpha (float): The learning rate.\n",
    "            gamma (float): The discount factor for future rewards.\n",
    "            epsilon (float): The exploration rate for epsilon-greedy action selection.\n",
    "            input_size (int): The size of the input space\n",
    "            action_size (int): The size of the action space\n",
    "        \"\"\"\n",
    "        self.env = env\n",
    "        self.input_size = input_size\n",
    "        self.action_size = action_size\n",
    "        self.alpha = alpha\n",
    "        self.gamma = gamma\n",
    "        self.epsilon = epsilon\n",
    "        \n",
    "        # Initialize Q-values uniformly between -0.001 and 0.001\n",
    "        self.theta = np.random.uniform(-0.001, 0.001, (input_size, action_size))\n",
    "\n",
    "    def select_action(self, s, greedy=False):\n",
    "        \"\"\"\n",
    "        Selects an action based on the current policy using epsilon-greedy method.\n",
    "\n",
    "        Parameters:\n",
    "            s (int): The current state.\n",
    "            greedy (bool): If True, overrides epsilon-greedy and selects the action with the highest Q-value.\n",
    "\n",
    "        Returns:\n",
    "            int: The selected action.\n",
    "        \"\"\"\n",
    "        if greedy or np.random.rand() < self.epsilon:\n",
    "            # With probability epsilon, choose a random allowed action\n",
    "            return np.random.choice(list(range(self.action_size)))\n",
    "        else:\n",
    "            # Otherwise, choose the action with the highest estimated Q-value among the allowed actions\n",
    "            Q_values = np.dot(s, self.theta)\n",
    "            return np.argmax(Q_values)\n",
    "\n",
    "    def update(self, s, a, r, s_prime, done):\n",
    "        \"\"\"\n",
    "        Updates the Q-table based on the observed transition using the Q-learning update rule.\n",
    "\n",
    "        Parameters:\n",
    "            s (int): The current state.\n",
    "            a (int): The action taken.\n",
    "            r (float): The reward received.\n",
    "            s_prime (int): The next state.\n",
    "            done (bool): Whether the episode has ended.\n",
    "        \"\"\"\n",
    "        # Compute the current estimate of Q(s, a)\n",
    "        current_Q = np.dot(s, self.theta[:, a])\n",
    "\n",
    "        # Best future Q-value for the next state\n",
    "        Q_prime = 0 if done else np.max(np.dot(s_prime, self.theta[:, a]))\n",
    "\n",
    "        if np.isnan(r) or np.isnan(self.gamma * Q_prime) or np.isnan(current_Q):\n",
    "            print(f\"Found NaN: r={r}, Q_prime={Q_prime}, current_Q={current_Q}\")\n",
    "        \n",
    "        # Compute the TD error\n",
    "        td_error = r + self.gamma * Q_prime - current_Q\n",
    "\n",
    "        # Update the weights for the taken action a\n",
    "        self.theta[:, a] += self.alpha * td_error * s\n"
   ]
  },
  {
   "attachments": {},
   "cell_type": "markdown",
   "metadata": {},
   "source": [
    "## Mountain Car\n",
    "\n",
    "The Mountain Car MDP is a deterministic MDP that consists of a car placed stochastically at the bottom of a sinusoidal valley, with the only possible actions being the accelerations that can be applied to the car in either direction. The goal of the MDP is to strategically accelerate the car to reach the goal state on top of the right hill. There are two versions of the mountain car domain in gymnasium: one with discrete actions and one with continuous. This version is the one with discrete actions.\n",
    "\n",
    "This MDP first appeared in Andrew Moore’s PhD Thesis (1990)\n",
    "\n",
    "|  |  |\n",
    "| ---- | ---- |\n",
    "| Action space | `Discrete(3)` |\n",
    "| Observation Space | `Box([-1.2 -0.07], [0.6 0.07], (2,), float32)` |\n",
    "| Import | `gymnasium.make(\"MountainCar-v0\")` |\n",
    "\n",
    "### Observation Space\n",
    "\n",
    "The observation is a ndarray with shape `(2,)` where the elements correspond to the following:\n",
    "\n",
    "| Num | Observation                               | Min   | Max  | Unit           |\n",
    "|-----|-------------------------------------------|-------|------|----------------|\n",
    "| 0   | position of the car along the x-axis      | -1.2  | 0.6  | position (m)   |\n",
    "| 1   | velocity of the car                       | -0.07 | 0.07 | velocity (v)   |\n",
    "\n",
    "### Action Space\n",
    "\n",
    "There are 3 discrete deterministic actions:\n",
    "\n",
    "- 0: Accelerate to the left\n",
    "- 1: Don’t accelerate\n",
    "- 2: Accelerate to the right\n",
    "\n",
    "### Transition Dynamics:\n",
    "\n",
    "Given an action, the mountain car follows the following transition dynamics:\n",
    "\n",
    "`velocity_{t+1} = velocity_t + (action - 1) * force - cos(3 * position_t) * gravity`\n",
    "\n",
    "`position_{t+1} = position_t + velocity_{t+1}`\n",
    "\n",
    "where `force = 0.001` and `gravity = 0.0025`. The collisions at either end are inelastic with the velocity set to 0 upon collision with the wall. The position is clipped to the range `[-1.2, 0.6]` and velocity is clipped to the range `[-0.07, 0.07]`.\n",
    "\n",
    "### Reward:\n",
    "\n",
    "The goal is to reach the flag placed on top of the right hill as quickly as possible, as such the agent is penalised with a reward of -1 for each timestep.\n",
    "\n",
    "### Starting State\n",
    "\n",
    "The position of the car is assigned a uniform random value in `[-0.6 , -0.4]`. The starting velocity of the car is always assigned to 0.\n",
    "\n",
    "### Episode End\n",
    "\n",
    "The episode ends if either of the following happens:\n",
    "\n",
    "- Termination: The position of the car is greater than or equal to 0.5 (the goal position on top of the right hill)\n",
    "- Truncation: The length of the episode is 200.\n"
   ]
  },
  {
   "cell_type": "code",
   "execution_count": 4,
   "metadata": {},
   "outputs": [],
   "source": [
    "mc_env = gym.make(\"MountainCar-v0\")"
   ]
  },
  {
   "cell_type": "code",
   "execution_count": 5,
   "metadata": {},
   "outputs": [],
   "source": [
    "s, info = mc_env.reset()"
   ]
  },
  {
   "cell_type": "markdown",
   "metadata": {},
   "source": [
    "### Tile-coding\n",
    "- Discretise the state space for both the environments using an appropriate tile-coding (see section 9.5.4 of the RL book http://incompleteideas.net/book/RLbook2020.pdf for how to do tilecoding).\n",
    "- It is generally recommended to use at most 10 tiles (bins) per state variable, but you are free to choose more tiles if it results in better performance.\n",
    "- It is easier to imagine tiling each dimension of the state-space independently, in that case, one tiling of $s_2$, for example, is just one way to make bins out of $s_2$.\n",
    "- So suppose the state-space is 2D so we have the state is $s = (s_1 , s_2)$.\n",
    "- Suppose we have 2 tilings of 5 tiles (bins) each per dimension of $s$, idea is to convert the state representation from $s$ to the $2*2*5=20$ dim vector:\n",
    "$$x = (x_{1,1,1} , x_{1,1,2} , \\ldots , x_{1,1,5} , x_{1,2,1}, \\ldots , x_{1,2,5} , x_{2,1,1} , x_{2,1,2} , \\ldots , x_{2,1,5} , x_{2,2,1} , \\ldots , x_{2,2,5}),$$\n",
    "which contains only 1s and 0s where $x_{i,j,k} = 1$ iff $s_i$ is in tile $k$ of the $j$-th tiling (of the $i$-th state dimension), and 0 otherwise."
   ]
  },
  {
   "cell_type": "code",
   "execution_count": 6,
   "metadata": {},
   "outputs": [],
   "source": [
    "class TileCoder:\n",
    "    def __init__(self, x_min, x_max, v_min, v_max, x_bins, v_bins, num_frames):\n",
    "        self.x_min = x_min\n",
    "        self.x_max = x_max\n",
    "        self.v_min = v_min\n",
    "        self.v_max = v_max\n",
    "        self.x_bins = x_bins\n",
    "        self.v_bins = v_bins\n",
    "        self.num_frames = num_frames\n",
    "\n",
    "        # Calculate the size of a single bin across each dimension\n",
    "        self.x_unit_size = (x_max - x_min) / x_bins\n",
    "        self.v_unit_size = (v_max - v_min) / v_bins\n",
    "\n",
    "        # Generate the base frames\n",
    "        self.x_frames = [np.linspace(x_min, x_max, x_bins + 1) + self.x_unit_size * (i - num_frames) / num_frames for i in range(num_frames * 2)]\n",
    "        self.v_frames = [np.linspace(v_min, v_max, v_bins + 1) + self.v_unit_size * (i - num_frames) / num_frames for i in range(num_frames * 2)]\n",
    "\n",
    "    def get_active_tiles(self, x, v):\n",
    "        tol = 1e-4\n",
    "        assert x >= self.x_min-tol and x <= self.x_max+tol, f\"x={x} is not in range [{self.x_min}, {self.x_max}]\"\n",
    "        assert v >= self.v_min-tol and v <= self.v_max+tol, f\"v={v} is not in range [{self.v_min}, {self.v_max}]\"\n",
    "        x_frame_indices = [np.searchsorted(frame, x) for frame in self.x_frames]\n",
    "        v_frame_indices = [np.searchsorted(frame, v) for frame in self.v_frames]\n",
    "        \n",
    "        x_one_hot_frames = np.array([\n",
    "            one_hot(index, self.v_bins+2)[1:-1]  # we +2 to add an index for the left and right and then remove it with [1:-1]\n",
    "            for index in x_frame_indices\n",
    "        ])\n",
    "        v_one_hot_frames = np.array([\n",
    "            one_hot(index, self.v_bins+2)[1:-1]  # we +2 to add an index for the left and right and then remove it with [1:-1]\n",
    "            for index in v_frame_indices\n",
    "        ])\n",
    "        return np.concatenate([x_one_hot_frames.flatten(), v_one_hot_frames.flatten()])\n",
    "\n",
    "    def plot_frames(self):\n",
    "        plt.figure(figsize=(8, 6))\n",
    "        colors = plt.cm.viridis(np.linspace(0, 1, len(self.x_frames)))  # Using a colormap\n",
    "\n",
    "        for i, frame in enumerate(zip(self.x_frames, self.v_frames)):\n",
    "            x_frame, v_frame = frame\n",
    "            X, V = np.meshgrid(x_frame, v_frame)\n",
    "            plt.plot(X, V, 'o-', color=colors[i % len(self.x_frames)], markersize=2, linewidth=1, alpha=0.7)\n",
    "            plt.plot(X.T, V.T, 'o-', color=colors[i % len(self.x_frames)], markersize=2, linewidth=1, alpha=0.7)\n",
    "\n",
    "        # Drawing the boundary in red\n",
    "        plt.plot([self.x_min, self.x_max, self.x_max, self.x_min, self.x_min], [self.v_min, self.v_min, self.v_max, self.v_max, self.v_min], 'r-', linewidth=2)\n",
    "\n",
    "        plt.title('Tile-coding plot')\n",
    "        plt.xlabel('Position (x)')\n",
    "        plt.ylabel('Velocity (v)')\n",
    "        plt.grid(True)\n",
    "        plt.show()\n",
    "\n",
    "# Example usage:\n",
    "tile_coder = TileCoder(\n",
    "    x_min = -1.2,\n",
    "    x_max = 0.6,\n",
    "    v_min = -0.07,\n",
    "    v_max = 0.07,\n",
    "    x_bins = 4,\n",
    "    v_bins = 6,\n",
    "    num_frames = 3\n",
    ")"
   ]
  },
  {
   "cell_type": "code",
   "execution_count": 7,
   "metadata": {},
   "outputs": [
    {
     "data": {
      "text/plain": [
       "72"
      ]
     },
     "execution_count": 7,
     "metadata": {},
     "output_type": "execute_result"
    }
   ],
   "source": [
    "input_size = tile_coder.get_active_tiles(0.1, 0.04).shape[0]\n",
    "input_size"
   ]
  },
  {
   "cell_type": "markdown",
   "metadata": {},
   "source": [
    "### Plot the Tile-coding\n",
    "\n",
    "We plot the tile-coding we generated to check that we got it right"
   ]
  },
  {
   "cell_type": "code",
   "execution_count": 8,
   "metadata": {},
   "outputs": [
    {
     "data": {
      "image/png": "[encoded data removed]",
      "text/plain": [
       "<Figure size 800x600 with 1 Axes>"
      ]
     },
     "metadata": {},
     "output_type": "display_data"
    }
   ],
   "source": [
    "tile_coder.plot_frames()"
   ]
  },
  {
   "cell_type": "code",
   "execution_count": 9,
   "metadata": {},
   "outputs": [
    {
     "data": {
      "text/plain": [
       "(0.17584142394276592, 0.06578290120613264)"
      ]
     },
     "execution_count": 9,
     "metadata": {},
     "output_type": "execute_result"
    }
   ],
   "source": [
    "x_chosen = np.random.uniform(low=tile_coder.x_min, high=tile_coder.x_max)\n",
    "v_chosen = np.random.uniform(low=tile_coder.v_min, high=tile_coder.v_max)\n",
    "\n",
    "x_chosen, v_chosen"
   ]
  },
  {
   "cell_type": "code",
   "execution_count": 10,
   "metadata": {},
   "outputs": [
    {
     "data": {
      "text/plain": [
       "array([0., 0., 0., 0., 1., 0., 0., 0., 0., 1., 0., 0., 0., 0., 0., 1., 0.,\n",
       "       0., 0., 0., 0., 1., 0., 0., 0., 0., 1., 0., 0., 0., 0., 0., 1., 0.,\n",
       "       0., 0., 0., 0., 0., 0., 0., 0., 0., 0., 0., 0., 0., 0., 0., 0., 0.,\n",
       "       0., 0., 0., 0., 0., 0., 0., 0., 1., 0., 0., 0., 0., 0., 1., 0., 0.,\n",
       "       0., 0., 0., 1.])"
      ]
     },
     "execution_count": 10,
     "metadata": {},
     "output_type": "execute_result"
    }
   ],
   "source": [
    "active_tiles = tile_coder.get_active_tiles(x_chosen, v_chosen)\n",
    "active_tiles"
   ]
  },
  {
   "cell_type": "markdown",
   "metadata": {},
   "source": [
    "### Hyperparameters\n",
    "- Initalise the parameters for the value function uniformly between −0.001 and \n",
    "0.001.\n",
    "- Use an $\\varepsilon$-greedy policy with three choices of $\\varepsilon$ and step-size parameters 1/4, 1/8, 1/16 and\n",
    "run 50 learning trials with different initialisations for $Q$, each having 1000 episodes, for each\n",
    "configuration. (That means 3 configs * 50 runs * 1000 episodes).\n"
   ]
  },
  {
   "cell_type": "code",
   "execution_count": 109,
   "metadata": {},
   "outputs": [],
   "source": [
    "from itertools import product\n",
    "models = [QLearner(mc_env, alpha=alpha, gamma=gamma, epsilon=eps, input_size=input_size, action_size=3) for gamma, alpha, eps in product([0.9, 0.6], [0.1, 0.6, 0.8, 0.9], [0.1, 0.01, 0.001])]"
   ]
  },
  {
   "cell_type": "code",
   "execution_count": 110,
   "metadata": {},
   "outputs": [],
   "source": [
    "def run_trial(model, env, tile_coder, n_episodes=1000):\n",
    "    train_history = []\n",
    "\n",
    "    for episode in tqdm(range(n_episodes)):\n",
    "        s, info = env.reset()\n",
    "        s = tile_coder.get_active_tiles(*s)\n",
    "        done = False\n",
    "        total_reward = 0\n",
    "        segment = 0\n",
    "\n",
    "        while not done and segment < 200:\n",
    "            a = model.select_action(s)\n",
    "            s_prime, r, done, trunc, info = env.step(a)\n",
    "            s_prime = tile_coder.get_active_tiles(*s_prime)\n",
    "            model.update(s, a, r, s_prime, done)\n",
    "            s = s_prime\n",
    "            total_reward += r\n",
    "            segment += 1\n",
    "\n",
    "        train_history.append({\n",
    "            'model_name': 'Q-Learning',\n",
    "            'episode': episode,\n",
    "            'num_segments': segment,\n",
    "            'total_reward': total_reward,\n",
    "            'alpha': model.alpha,\n",
    "            'gamma': model.gamma,\n",
    "            'epsilon': model.epsilon\n",
    "        })\n",
    "\n",
    "    return model, pd.DataFrame(train_history)\n"
   ]
  },
  {
   "cell_type": "code",
   "execution_count": null,
   "metadata": {},
   "outputs": [
    {
     "data": {
      "application/vnd.jupyter.widget-view+json": {
       "model_id": "fe5f660b46f84f3f8c9620c6dd368a10",
       "version_major": 2,
       "version_minor": 0
      },
      "text/plain": [
       "  0%|          | 0/24 [00:00<?, ?it/s]"
      ]
     },
     "metadata": {},
     "output_type": "display_data"
    },
    {
     "name": "stderr",
     "output_type": "stream",
     "text": [
      "/tmp/ipykernel_72914/2112752767.py:75: RuntimeWarning: invalid value encountered in scalar subtract\n",
      "  td_error = r + self.gamma * Q_prime - current_Q\n",
      "/tmp/ipykernel_72914/2112752767.py:78: RuntimeWarning: invalid value encountered in multiply\n",
      "  self.theta[:, a] += self.alpha * td_error * s\n",
      "/tmp/ipykernel_72914/2112752767.py:75: RuntimeWarning: invalid value encountered in scalar subtract\n",
      "  td_error = r + self.gamma * Q_prime - current_Q\n",
      "/tmp/ipykernel_72914/2112752767.py:75: RuntimeWarning: invalid value encountered in scalar subtract\n",
      "  td_error = r + self.gamma * Q_prime - current_Q\n",
      "/tmp/ipykernel_72914/2112752767.py:75: RuntimeWarning: invalid value encountered in scalar subtract\n",
      "  td_error = r + self.gamma * Q_prime - current_Q\n",
      "/tmp/ipykernel_72914/2112752767.py:78: RuntimeWarning: invalid value encountered in multiply\n",
      "  self.theta[:, a] += self.alpha * td_error * s\n",
      "/tmp/ipykernel_72914/2112752767.py:75: RuntimeWarning: invalid value encountered in scalar subtract\n",
      "  td_error = r + self.gamma * Q_prime - current_Q\n",
      "/tmp/ipykernel_72914/2112752767.py:75: RuntimeWarning: invalid value encountered in scalar subtract\n",
      "  td_error = r + self.gamma * Q_prime - current_Q\n",
      "/tmp/ipykernel_72914/2112752767.py:75: RuntimeWarning: invalid value encountered in scalar subtract\n",
      "  td_error = r + self.gamma * Q_prime - current_Q\n"
     ]
    }
   ],
   "source": [
    "from functools import partial\n",
    "\n",
    "def run_parallel_trials(models):\n",
    "    pool = Pool(processes=cpu_count())\n",
    "    results = list(tqdm(pool.imap(partial(run_trial, env=mc_env, tile_coder=tile_coder, n_episodes=1000), models), total=len(models)))\n",
    "    pool.close()\n",
    "    pool.join()\n",
    "    return results\n",
    "\n",
    "results = run_parallel_trials(models)"
   ]
  },
  {
   "cell_type": "code",
   "execution_count": 105,
   "metadata": {},
   "outputs": [],
   "source": [
    "results_df = pd.concat([result[1] for result in results]).reset_index(drop=True)\n",
    "results_df['experiment_name'] = results_df.apply(lambda x: f'alpha={x.alpha}, gamma={x.gamma}, epsilon={x.epsilon}', axis=1)"
   ]
  },
  {
   "cell_type": "code",
   "execution_count": 108,
   "metadata": {},
   "outputs": [
    {
     "data": {
      "text/plain": [
       "experiment_name\n",
       "alpha=0.1, gamma=0.9, epsilon=0.001    2000\n",
       "alpha=0.1, gamma=0.9, epsilon=0.01     2000\n",
       "alpha=0.1, gamma=0.9, epsilon=0.1      2000\n",
       "alpha=0.6, gamma=0.9, epsilon=0.001    2000\n",
       "alpha=0.6, gamma=0.9, epsilon=0.01     2000\n",
       "alpha=0.6, gamma=0.9, epsilon=0.1      2000\n",
       "alpha=0.8, gamma=0.9, epsilon=0.001    2000\n",
       "alpha=0.8, gamma=0.9, epsilon=0.01     2000\n",
       "alpha=0.8, gamma=0.9, epsilon=0.1      2000\n",
       "alpha=0.9, gamma=0.9, epsilon=0.001    2000\n",
       "alpha=0.9, gamma=0.9, epsilon=0.01     2000\n",
       "alpha=0.9, gamma=0.9, epsilon=0.1      2000\n",
       "Name: total_reward, dtype: int64"
      ]
     },
     "execution_count": 108,
     "metadata": {},
     "output_type": "execute_result"
    }
   ],
   "source": [
    "results_df.groupby('experiment_name')['total_reward'].size()"
   ]
  },
  {
   "cell_type": "code",
   "execution_count": 106,
   "metadata": {},
   "outputs": [
    {
     "data": {
      "text/plain": [
       "experiment_name\n",
       "alpha=0.1, gamma=0.9, epsilon=0.001   -400000.0\n",
       "alpha=0.1, gamma=0.9, epsilon=0.01    -399955.0\n",
       "alpha=0.1, gamma=0.9, epsilon=0.1     -400000.0\n",
       "alpha=0.6, gamma=0.9, epsilon=0.001   -400000.0\n",
       "alpha=0.6, gamma=0.9, epsilon=0.01    -400000.0\n",
       "alpha=0.6, gamma=0.9, epsilon=0.1     -400000.0\n",
       "alpha=0.8, gamma=0.9, epsilon=0.001   -400000.0\n",
       "alpha=0.8, gamma=0.9, epsilon=0.01    -400000.0\n",
       "alpha=0.8, gamma=0.9, epsilon=0.1     -400000.0\n",
       "alpha=0.9, gamma=0.9, epsilon=0.001   -400000.0\n",
       "alpha=0.9, gamma=0.9, epsilon=0.01    -400000.0\n",
       "alpha=0.9, gamma=0.9, epsilon=0.1     -400000.0\n",
       "Name: total_reward, dtype: float64"
      ]
     },
     "execution_count": 106,
     "metadata": {},
     "output_type": "execute_result"
    }
   ],
   "source": [
    "results_df.groupby('experiment_name')['total_reward'].sum()"
   ]
  },
  {
   "cell_type": "code",
   "execution_count": 107,
   "metadata": {},
   "outputs": [
    {
     "ename": "ValueError",
     "evalue": "Index contains duplicate entries, cannot reshape",
     "output_type": "error",
     "traceback": [
      "\u001b[0;31m---------------------------------------------------------------------------\u001b[0m",
      "\u001b[0;31mValueError\u001b[0m                                Traceback (most recent call last)",
      "Cell \u001b[0;32mIn[107], line 1\u001b[0m\n\u001b[0;32m----> 1\u001b[0m \u001b[43mresults_df\u001b[49m\u001b[43m[\u001b[49m\u001b[43m[\u001b[49m\u001b[38;5;124;43m'\u001b[39;49m\u001b[38;5;124;43mepisode\u001b[39;49m\u001b[38;5;124;43m'\u001b[39;49m\u001b[43m,\u001b[49m\u001b[43m \u001b[49m\u001b[38;5;124;43m'\u001b[39;49m\u001b[38;5;124;43mtotal_reward\u001b[39;49m\u001b[38;5;124;43m'\u001b[39;49m\u001b[43m,\u001b[49m\u001b[43m \u001b[49m\u001b[38;5;124;43m'\u001b[39;49m\u001b[38;5;124;43mexperiment_name\u001b[39;49m\u001b[38;5;124;43m'\u001b[39;49m\u001b[43m]\u001b[49m\u001b[43m]\u001b[49m\u001b[38;5;241;43m.\u001b[39;49m\u001b[43mpivot\u001b[49m\u001b[43m(\u001b[49m\u001b[43mcolumns\u001b[49m\u001b[38;5;241;43m=\u001b[39;49m\u001b[38;5;124;43m'\u001b[39;49m\u001b[38;5;124;43mexperiment_name\u001b[39;49m\u001b[38;5;124;43m'\u001b[39;49m\u001b[43m,\u001b[49m\u001b[43m \u001b[49m\u001b[43mindex\u001b[49m\u001b[38;5;241;43m=\u001b[39;49m\u001b[38;5;124;43m'\u001b[39;49m\u001b[38;5;124;43mepisode\u001b[39;49m\u001b[38;5;124;43m'\u001b[39;49m\u001b[43m,\u001b[49m\u001b[43m \u001b[49m\u001b[43mvalues\u001b[49m\u001b[38;5;241;43m=\u001b[39;49m\u001b[38;5;124;43m'\u001b[39;49m\u001b[38;5;124;43mtotal_reward\u001b[39;49m\u001b[38;5;124;43m'\u001b[39;49m\u001b[43m)\u001b[49m\u001b[38;5;241m.\u001b[39mplot()\n",
      "File \u001b[0;32m/usr/local/lib/python3.9/dist-packages/pandas/core/frame.py:9312\u001b[0m, in \u001b[0;36mDataFrame.pivot\u001b[0;34m(self, columns, index, values)\u001b[0m\n\u001b[1;32m   9305\u001b[0m \u001b[38;5;129m@Substitution\u001b[39m(\u001b[38;5;124m\"\u001b[39m\u001b[38;5;124m\"\u001b[39m)\n\u001b[1;32m   9306\u001b[0m \u001b[38;5;129m@Appender\u001b[39m(_shared_docs[\u001b[38;5;124m\"\u001b[39m\u001b[38;5;124mpivot\u001b[39m\u001b[38;5;124m\"\u001b[39m])\n\u001b[1;32m   9307\u001b[0m \u001b[38;5;28;01mdef\u001b[39;00m \u001b[38;5;21mpivot\u001b[39m(\n\u001b[1;32m   9308\u001b[0m     \u001b[38;5;28mself\u001b[39m, \u001b[38;5;241m*\u001b[39m, columns, index\u001b[38;5;241m=\u001b[39mlib\u001b[38;5;241m.\u001b[39mno_default, values\u001b[38;5;241m=\u001b[39mlib\u001b[38;5;241m.\u001b[39mno_default\n\u001b[1;32m   9309\u001b[0m ) \u001b[38;5;241m-\u001b[39m\u001b[38;5;241m>\u001b[39m DataFrame:\n\u001b[1;32m   9310\u001b[0m     \u001b[38;5;28;01mfrom\u001b[39;00m \u001b[38;5;21;01mpandas\u001b[39;00m\u001b[38;5;21;01m.\u001b[39;00m\u001b[38;5;21;01mcore\u001b[39;00m\u001b[38;5;21;01m.\u001b[39;00m\u001b[38;5;21;01mreshape\u001b[39;00m\u001b[38;5;21;01m.\u001b[39;00m\u001b[38;5;21;01mpivot\u001b[39;00m \u001b[38;5;28;01mimport\u001b[39;00m pivot\n\u001b[0;32m-> 9312\u001b[0m     \u001b[38;5;28;01mreturn\u001b[39;00m \u001b[43mpivot\u001b[49m\u001b[43m(\u001b[49m\u001b[38;5;28;43mself\u001b[39;49m\u001b[43m,\u001b[49m\u001b[43m \u001b[49m\u001b[43mindex\u001b[49m\u001b[38;5;241;43m=\u001b[39;49m\u001b[43mindex\u001b[49m\u001b[43m,\u001b[49m\u001b[43m \u001b[49m\u001b[43mcolumns\u001b[49m\u001b[38;5;241;43m=\u001b[39;49m\u001b[43mcolumns\u001b[49m\u001b[43m,\u001b[49m\u001b[43m \u001b[49m\u001b[43mvalues\u001b[49m\u001b[38;5;241;43m=\u001b[39;49m\u001b[43mvalues\u001b[49m\u001b[43m)\u001b[49m\n",
      "File \u001b[0;32m/usr/local/lib/python3.9/dist-packages/pandas/core/reshape/pivot.py:570\u001b[0m, in \u001b[0;36mpivot\u001b[0;34m(data, columns, index, values)\u001b[0m\n\u001b[1;32m    566\u001b[0m         indexed \u001b[38;5;241m=\u001b[39m data\u001b[38;5;241m.\u001b[39m_constructor_sliced(data[values]\u001b[38;5;241m.\u001b[39m_values, index\u001b[38;5;241m=\u001b[39mmultiindex)\n\u001b[1;32m    567\u001b[0m \u001b[38;5;66;03m# error: Argument 1 to \"unstack\" of \"DataFrame\" has incompatible type \"Union\u001b[39;00m\n\u001b[1;32m    568\u001b[0m \u001b[38;5;66;03m# [List[Any], ExtensionArray, ndarray[Any, Any], Index, Series]\"; expected\u001b[39;00m\n\u001b[1;32m    569\u001b[0m \u001b[38;5;66;03m# \"Hashable\"\u001b[39;00m\n\u001b[0;32m--> 570\u001b[0m result \u001b[38;5;241m=\u001b[39m \u001b[43mindexed\u001b[49m\u001b[38;5;241;43m.\u001b[39;49m\u001b[43munstack\u001b[49m\u001b[43m(\u001b[49m\u001b[43mcolumns_listlike\u001b[49m\u001b[43m)\u001b[49m  \u001b[38;5;66;03m# type: ignore[arg-type]\u001b[39;00m\n\u001b[1;32m    571\u001b[0m result\u001b[38;5;241m.\u001b[39mindex\u001b[38;5;241m.\u001b[39mnames \u001b[38;5;241m=\u001b[39m [\n\u001b[1;32m    572\u001b[0m     name \u001b[38;5;28;01mif\u001b[39;00m name \u001b[38;5;129;01mis\u001b[39;00m \u001b[38;5;129;01mnot\u001b[39;00m lib\u001b[38;5;241m.\u001b[39mno_default \u001b[38;5;28;01melse\u001b[39;00m \u001b[38;5;28;01mNone\u001b[39;00m \u001b[38;5;28;01mfor\u001b[39;00m name \u001b[38;5;129;01min\u001b[39;00m result\u001b[38;5;241m.\u001b[39mindex\u001b[38;5;241m.\u001b[39mnames\n\u001b[1;32m    573\u001b[0m ]\n\u001b[1;32m    575\u001b[0m \u001b[38;5;28;01mreturn\u001b[39;00m result\n",
      "File \u001b[0;32m/usr/local/lib/python3.9/dist-packages/pandas/core/series.py:4595\u001b[0m, in \u001b[0;36mSeries.unstack\u001b[0;34m(self, level, fill_value, sort)\u001b[0m\n\u001b[1;32m   4550\u001b[0m \u001b[38;5;250m\u001b[39m\u001b[38;5;124;03m\"\"\"\u001b[39;00m\n\u001b[1;32m   4551\u001b[0m \u001b[38;5;124;03mUnstack, also known as pivot, Series with MultiIndex to produce DataFrame.\u001b[39;00m\n\u001b[1;32m   4552\u001b[0m \n\u001b[0;32m   (...)\u001b[0m\n\u001b[1;32m   4591\u001b[0m \u001b[38;5;124;03mb    2    4\u001b[39;00m\n\u001b[1;32m   4592\u001b[0m \u001b[38;5;124;03m\"\"\"\u001b[39;00m\n\u001b[1;32m   4593\u001b[0m \u001b[38;5;28;01mfrom\u001b[39;00m \u001b[38;5;21;01mpandas\u001b[39;00m\u001b[38;5;21;01m.\u001b[39;00m\u001b[38;5;21;01mcore\u001b[39;00m\u001b[38;5;21;01m.\u001b[39;00m\u001b[38;5;21;01mreshape\u001b[39;00m\u001b[38;5;21;01m.\u001b[39;00m\u001b[38;5;21;01mreshape\u001b[39;00m \u001b[38;5;28;01mimport\u001b[39;00m unstack\n\u001b[0;32m-> 4595\u001b[0m \u001b[38;5;28;01mreturn\u001b[39;00m \u001b[43munstack\u001b[49m\u001b[43m(\u001b[49m\u001b[38;5;28;43mself\u001b[39;49m\u001b[43m,\u001b[49m\u001b[43m \u001b[49m\u001b[43mlevel\u001b[49m\u001b[43m,\u001b[49m\u001b[43m \u001b[49m\u001b[43mfill_value\u001b[49m\u001b[43m,\u001b[49m\u001b[43m \u001b[49m\u001b[43msort\u001b[49m\u001b[43m)\u001b[49m\n",
      "File \u001b[0;32m/usr/local/lib/python3.9/dist-packages/pandas/core/reshape/reshape.py:517\u001b[0m, in \u001b[0;36munstack\u001b[0;34m(obj, level, fill_value, sort)\u001b[0m\n\u001b[1;32m    515\u001b[0m \u001b[38;5;28;01mif\u001b[39;00m is_1d_only_ea_dtype(obj\u001b[38;5;241m.\u001b[39mdtype):\n\u001b[1;32m    516\u001b[0m     \u001b[38;5;28;01mreturn\u001b[39;00m _unstack_extension_series(obj, level, fill_value, sort\u001b[38;5;241m=\u001b[39msort)\n\u001b[0;32m--> 517\u001b[0m unstacker \u001b[38;5;241m=\u001b[39m \u001b[43m_Unstacker\u001b[49m\u001b[43m(\u001b[49m\n\u001b[1;32m    518\u001b[0m \u001b[43m    \u001b[49m\u001b[43mobj\u001b[49m\u001b[38;5;241;43m.\u001b[39;49m\u001b[43mindex\u001b[49m\u001b[43m,\u001b[49m\u001b[43m \u001b[49m\u001b[43mlevel\u001b[49m\u001b[38;5;241;43m=\u001b[39;49m\u001b[43mlevel\u001b[49m\u001b[43m,\u001b[49m\u001b[43m \u001b[49m\u001b[43mconstructor\u001b[49m\u001b[38;5;241;43m=\u001b[39;49m\u001b[43mobj\u001b[49m\u001b[38;5;241;43m.\u001b[39;49m\u001b[43m_constructor_expanddim\u001b[49m\u001b[43m,\u001b[49m\u001b[43m \u001b[49m\u001b[43msort\u001b[49m\u001b[38;5;241;43m=\u001b[39;49m\u001b[43msort\u001b[49m\n\u001b[1;32m    519\u001b[0m \u001b[43m\u001b[49m\u001b[43m)\u001b[49m\n\u001b[1;32m    520\u001b[0m \u001b[38;5;28;01mreturn\u001b[39;00m unstacker\u001b[38;5;241m.\u001b[39mget_result(\n\u001b[1;32m    521\u001b[0m     obj\u001b[38;5;241m.\u001b[39m_values, value_columns\u001b[38;5;241m=\u001b[39m\u001b[38;5;28;01mNone\u001b[39;00m, fill_value\u001b[38;5;241m=\u001b[39mfill_value\n\u001b[1;32m    522\u001b[0m )\n",
      "File \u001b[0;32m/usr/local/lib/python3.9/dist-packages/pandas/core/reshape/reshape.py:154\u001b[0m, in \u001b[0;36m_Unstacker.__init__\u001b[0;34m(self, index, level, constructor, sort)\u001b[0m\n\u001b[1;32m    146\u001b[0m \u001b[38;5;28;01mif\u001b[39;00m num_cells \u001b[38;5;241m>\u001b[39m np\u001b[38;5;241m.\u001b[39miinfo(np\u001b[38;5;241m.\u001b[39mint32)\u001b[38;5;241m.\u001b[39mmax:\n\u001b[1;32m    147\u001b[0m     warnings\u001b[38;5;241m.\u001b[39mwarn(\n\u001b[1;32m    148\u001b[0m         \u001b[38;5;124mf\u001b[39m\u001b[38;5;124m\"\u001b[39m\u001b[38;5;124mThe following operation may generate \u001b[39m\u001b[38;5;132;01m{\u001b[39;00mnum_cells\u001b[38;5;132;01m}\u001b[39;00m\u001b[38;5;124m cells \u001b[39m\u001b[38;5;124m\"\u001b[39m\n\u001b[1;32m    149\u001b[0m         \u001b[38;5;124mf\u001b[39m\u001b[38;5;124m\"\u001b[39m\u001b[38;5;124min the resulting pandas object.\u001b[39m\u001b[38;5;124m\"\u001b[39m,\n\u001b[1;32m    150\u001b[0m         PerformanceWarning,\n\u001b[1;32m    151\u001b[0m         stacklevel\u001b[38;5;241m=\u001b[39mfind_stack_level(),\n\u001b[1;32m    152\u001b[0m     )\n\u001b[0;32m--> 154\u001b[0m \u001b[38;5;28;43mself\u001b[39;49m\u001b[38;5;241;43m.\u001b[39;49m\u001b[43m_make_selectors\u001b[49m\u001b[43m(\u001b[49m\u001b[43m)\u001b[49m\n",
      "File \u001b[0;32m/usr/local/lib/python3.9/dist-packages/pandas/core/reshape/reshape.py:210\u001b[0m, in \u001b[0;36m_Unstacker._make_selectors\u001b[0;34m(self)\u001b[0m\n\u001b[1;32m    207\u001b[0m mask\u001b[38;5;241m.\u001b[39mput(selector, \u001b[38;5;28;01mTrue\u001b[39;00m)\n\u001b[1;32m    209\u001b[0m \u001b[38;5;28;01mif\u001b[39;00m mask\u001b[38;5;241m.\u001b[39msum() \u001b[38;5;241m<\u001b[39m \u001b[38;5;28mlen\u001b[39m(\u001b[38;5;28mself\u001b[39m\u001b[38;5;241m.\u001b[39mindex):\n\u001b[0;32m--> 210\u001b[0m     \u001b[38;5;28;01mraise\u001b[39;00m \u001b[38;5;167;01mValueError\u001b[39;00m(\u001b[38;5;124m\"\u001b[39m\u001b[38;5;124mIndex contains duplicate entries, cannot reshape\u001b[39m\u001b[38;5;124m\"\u001b[39m)\n\u001b[1;32m    212\u001b[0m \u001b[38;5;28mself\u001b[39m\u001b[38;5;241m.\u001b[39mgroup_index \u001b[38;5;241m=\u001b[39m comp_index\n\u001b[1;32m    213\u001b[0m \u001b[38;5;28mself\u001b[39m\u001b[38;5;241m.\u001b[39mmask \u001b[38;5;241m=\u001b[39m mask\n",
      "\u001b[0;31mValueError\u001b[0m: Index contains duplicate entries, cannot reshape"
     ]
    }
   ],
   "source": [
    "results_df[['episode', 'total_reward', 'experiment_name']].pivot(columns='experiment_name', index='episode', values='total_reward').plot()"
   ]
  },
  {
   "cell_type": "markdown",
   "metadata": {},
   "source": [
    "### Plots\n",
    "- Plot the average performance of the policy on the Y-axis and the number of episodes on the\n",
    "X-axis. The plots should also include the interquantile range of the 50 independent runs. Note\n",
    "that you are expected to plot 9 results corresponding to each ϵ and step-size parameters for\n",
    "both the environments, and document your findings in a separate pdf along with the results.\n",
    "Explain why one algorithm performs better than the other or why a particular configuration\n",
    "results in better performance."
   ]
  },
  {
   "cell_type": "markdown",
   "metadata": {},
   "source": [
    "### Rules\n",
    "- Implement all the methods without using any automatic differentiation package. It is highly recommended that you undertake the development of software independently. Furthermore, it is essential to appropriately cite any resources or materials sourced from the\n",
    "internet in your work."
   ]
  },
  {
   "cell_type": "markdown",
   "metadata": {
    "id": "Sazk2zxT8jD7"
   },
   "source": [
    "# Write your experiment code below"
   ]
  },
  {
   "cell_type": "code",
   "execution_count": 7,
   "metadata": {},
   "outputs": [],
   "source": [
    "! rm -rf data/*.csv"
   ]
  },
  {
   "cell_type": "code",
   "execution_count": null,
   "metadata": {},
   "outputs": [
    {
     "data": {
      "application/vnd.jupyter.widget-view+json": {
       "model_id": "7cb9111bde3840b4812636c28afaef50",
       "version_major": 2,
       "version_minor": 0
      },
      "text/plain": [
       "  0%|          | 0/1280 [00:00<?, ?it/s]"
      ]
     },
     "metadata": {},
     "output_type": "display_data"
    }
   ],
   "source": [
    "%%time\n",
    "if not os.path.exists('data/train_df.csv') or not os.path.exists('data/test_df.csv'):\n",
    "    train_df, test_df = run_parallel_trials(trial_params)\n",
    "    train_df.to_csv('data/train_df.csv', index=False)\n",
    "    test_df.to_csv('data/test_df.csv', index=False)\n",
    "else:\n",
    "    train_df = pd.read_csv('data/train_df.csv')\n",
    "    test_df = pd.read_csv('data/test_df.csv')"
   ]
  },
  {
   "cell_type": "code",
   "execution_count": null,
   "metadata": {},
   "outputs": [],
   "source": [
    "train_df"
   ]
  },
  {
   "cell_type": "code",
   "execution_count": null,
   "metadata": {},
   "outputs": [],
   "source": [
    "test_df"
   ]
  },
  {
   "cell_type": "code",
   "execution_count": null,
   "metadata": {},
   "outputs": [],
   "source": [
    "good_runs = train_df[train_df.step == train_df.step.max()].sort_values(\"return\", ascending=False).head(10).run.values"
   ]
  },
  {
   "cell_type": "code",
   "execution_count": null,
   "metadata": {},
   "outputs": [],
   "source": [
    "es_df = train_df[train_df.trial < 1]\n",
    "\n",
    "# Assuming `df` is your DataFrame with the data provided\n",
    "# Here we group by 'run' and then plot each group\n",
    "groups = es_df.groupby(['run', 'trial'])\n",
    "\n",
    "plt.figure(figsize=(15, 10))  # Set the figure size as desired\n",
    "\n",
    "for name, group in groups:\n",
    "    model_name, alpha, temp, trial = group.reset_index(drop=True).loc[0,['model_name', 'alpha', 'temp', 'trial']].values\n",
    "    label = f'model={model_name}, alpha={alpha:.2f}, temp={temp:.2f}'\n",
    "    plt.plot(group['step'], group['return'], marker='o', linestyle='-', label=label)\n",
    "\n",
    "plt.xlabel('Step Number')\n",
    "plt.ylabel('Return')\n",
    "plt.title('Return over Steps Grouped by Run Number')\n",
    "plt.legend(title='Run Number')\n",
    "plt.show()"
   ]
  },
  {
   "cell_type": "code",
   "execution_count": null,
   "metadata": {},
   "outputs": [],
   "source": [
    "es_df = test_df[test_df.trial < 1]\n",
    "\n",
    "# Assuming `df` is your DataFrame with the data provided\n",
    "# Here we group by 'run' and then plot each group\n",
    "groups = es_df.groupby(['run', 'trial'])\n",
    "\n",
    "plt.figure(figsize=(15, 10))  # Set the figure size as desired\n",
    "\n",
    "for name, group in groups:\n",
    "    model_name, alpha, temp, trial = group.reset_index(drop=True).loc[0,['model_name', 'alpha', 'temp', 'trial']].values\n",
    "    label = f'model={model_name}, alpha={alpha:.2f}, temp={temp:.2f}'\n",
    "    plt.plot(group['step'], group['return'], marker='o', linestyle='-', label=label)\n",
    "\n",
    "plt.xlabel('Step Number')\n",
    "plt.ylabel('Return')\n",
    "plt.title('Return over Steps Grouped by Run Number')\n",
    "plt.legend(title='Run Number')\n",
    "plt.show()"
   ]
  },
  {
   "cell_type": "markdown",
   "metadata": {},
   "source": [
    "## The graphs\n",
    "\n",
    "### Graph 1\n",
    "\n",
    "One graph that shows the effect of the parameters on the final **training** performance.\n",
    "\n",
    "The x-axis shows the different parameters (e.g. learning rate), and the y-axis shows the return\n",
    "of the agent (averaged over the last 10 training episodes and the 10 runs); note that this will\n",
    "typically end up as an upside-down U.\n",
    "    \n",
    "**For each algorithm**, the graph should have at least 3 lines (e.g. 3 temperature values) corre-\n",
    "sponding to the choices of the other hyperparameter. There should be at least 6 lines in the\n",
    "graph, and at least 18 different points. Also plot the uncertainty using shading (e.g. using the\n",
    "min and the max return of the 10 runs)"
   ]
  },
  {
   "cell_type": "code",
   "execution_count": null,
   "metadata": {},
   "outputs": [],
   "source": [
    "# Assuming `df` is your DataFrame\n",
    "# Step 1: Filter to only include the last 10 training episodes of each segment\n",
    "df_training_last_10 = train_df[(train_df['episode'] > n_episodes - 11) & (train_df['segment'] == n_segments-1)]\n",
    "\n",
    "# Step 2: Group by model, hyperparameters, and segment, then calculate mean return for the last 10 episodes\n",
    "grouped_means = df_training_last_10.groupby(['model_name', 'alpha', 'temp', 'run', 'trial', 'segment'])['return'].mean().reset_index()\n",
    "\n",
    "# Step 3: Further aggregate across trials to get the mean, min, and max returns for each hyperparameter combination\n",
    "final_stats = grouped_means.groupby(['model_name', 'alpha', 'temp']).agg(\n",
    "    mean_return=('return', 'mean'),\n",
    "    min_return=('return', 'min'),\n",
    "    max_return=('return', 'max')\n",
    ").reset_index()\n",
    "\n",
    "# Setup the figure and axes for a 2x2 grid of plots\n",
    "fig, axes = plt.subplots(nrows=2, ncols=2, figsize=(20, 14), sharey=True)\n",
    "\n",
    "# Titles for each column (Sarsa vs Expected Sarsa)\n",
    "column_titles = {'sarsa': 'Sarsa', 'expected_sarsa': 'Expected Sarsa'}\n",
    "# Titles for the rows based on the x-axis variable\n",
    "row_titles = ['Alpha', 'Temperature']\n",
    "\n",
    "# Assuming final_stats is correctly structured and contains 'model_name' column with 'Sarsa' and 'Expected Sarsa'\n",
    "for col_index, model in enumerate(column_titles):\n",
    "    model_data = final_stats[final_stats['model_name'] == model]\n",
    "\n",
    "    # First row plots: Alpha values\n",
    "    unique_alphas = model_data['alpha'].unique()\n",
    "    for alpha in unique_alphas:\n",
    "        subset_alpha = model_data[model_data['alpha'] == alpha].sort_values(by='temp')\n",
    "        if not subset_alpha.empty:  # Check if subset is not empty\n",
    "            axes[0, col_index].plot(subset_alpha['temp'], subset_alpha['mean_return'], label=f'Alpha={alpha:.2f}', marker='o')\n",
    "            axes[0, col_index].fill_between(subset_alpha['temp'], subset_alpha['min_return'], subset_alpha['max_return'], alpha=0.2)\n",
    "    axes[0, col_index].set_title(column_titles[model])\n",
    "    axes[0, col_index].set_xlabel('Temperature')\n",
    "    axes[0, col_index].set_ylabel('Average Return')\n",
    "    axes[0, col_index].legend(title='Learning Rate (alpha)')\n",
    "    axes[0, col_index].grid(True)\n",
    "\n",
    "    # Second row plots: Temperature values\n",
    "    unique_temps = model_data['temp'].unique()\n",
    "    for temp in unique_temps:\n",
    "        subset_temp = model_data[model_data['temp'] == temp].sort_values(by='alpha')\n",
    "        if not subset_temp.empty:  # Check if subset is not empty\n",
    "            axes[1, col_index].plot(subset_temp['alpha'], subset_temp['mean_return'], label=f'Temp={temp:.2f}', marker='o')\n",
    "            axes[1, col_index].fill_between(subset_temp['alpha'], subset_temp['min_return'], subset_temp['max_return'], alpha=0.2)\n",
    "    axes[1, col_index].set_xlabel('Learning Rate (alpha)')\n",
    "    axes[1, col_index].set_ylabel('Average Return')\n",
    "    axes[1, col_index].legend(title='Temperature')\n",
    "    axes[1, col_index].grid(True)\n",
    "\n",
    "plt.tight_layout()\n",
    "plt.show()"
   ]
  },
  {
   "cell_type": "markdown",
   "metadata": {},
   "source": [
    "## Graph 2: Test performance\n",
    "\n",
    "The same graph that instead shows the effect of the parameters on the final testing performance. The y-axis should now show the return during the final testing episode, averaged over the 10 runs."
   ]
  },
  {
   "cell_type": "code",
   "execution_count": null,
   "metadata": {},
   "outputs": [],
   "source": [
    "# Assuming `df` is your DataFrame\n",
    "# Step 1: Filter to only include the last 10 training episodes of each segment\n",
    "df_test_last_10 = test_df.loc[test_df.segment == n_segments - 1, :]\n",
    "\n",
    "# Step 2: Group by model, hyperparameters, and segment, then calculate mean return for the last 10 episodes\n",
    "grouped_means = df_test_last_10.groupby(['model_name', 'alpha', 'temp', 'run', 'trial', 'segment'])['return'].mean().reset_index()\n",
    "\n",
    "# Step 3: Further aggregate across trials to get the mean, min, and max returns for each hyperparameter combination\n",
    "final_stats = grouped_means.groupby(['model_name', 'alpha', 'temp']).agg(\n",
    "    mean_return=('return', 'mean'),\n",
    "    min_return=('return', 'min'),\n",
    "    max_return=('return', 'max')\n",
    ").reset_index()\n",
    "\n",
    "# Setup the figure and axes for a 2x2 grid of plots\n",
    "fig, axes = plt.subplots(nrows=2, ncols=2, figsize=(20, 14), sharey=True)\n",
    "\n",
    "# Titles for each column (Sarsa vs Expected Sarsa)\n",
    "column_titles = {'sarsa': 'Sarsa', 'expected_sarsa': 'Expected Sarsa'}\n",
    "# Titles for the rows based on the x-axis variable\n",
    "row_titles = ['Alpha', 'Temperature']\n",
    "\n",
    "# Assuming final_stats is correctly structured and contains 'model_name' column with 'Sarsa' and 'Expected Sarsa'\n",
    "for col_index, model in enumerate(column_titles):\n",
    "    model_data = final_stats[final_stats['model_name'] == model]\n",
    "\n",
    "    # First row plots: Alpha values\n",
    "    unique_alphas = model_data['alpha'].unique()\n",
    "    for alpha in unique_alphas:\n",
    "        subset_alpha = model_data[model_data['alpha'] == alpha].sort_values(by='temp')\n",
    "        if not subset_alpha.empty:  # Check if subset is not empty\n",
    "            axes[0, col_index].plot(subset_alpha['temp'], subset_alpha['mean_return'], label=f'Alpha={alpha:.2f}', marker='o')\n",
    "            axes[0, col_index].fill_between(subset_alpha['temp'], subset_alpha['min_return'], subset_alpha['max_return'], alpha=0.2)\n",
    "    axes[0, col_index].set_title(column_titles[model])\n",
    "    axes[0, col_index].set_xlabel('Temperature')\n",
    "    axes[0, col_index].set_ylabel('Average Return')\n",
    "    axes[0, col_index].legend(title='Learning Rate (alpha)')\n",
    "    axes[0, col_index].grid(True)\n",
    "\n",
    "    # Second row plots: Temperature values\n",
    "    unique_temps = model_data['temp'].unique()\n",
    "    for temp in unique_temps:\n",
    "        subset_temp = model_data[model_data['temp'] == temp].sort_values(by='alpha')\n",
    "        if not subset_temp.empty:  # Check if subset is not empty\n",
    "            axes[1, col_index].plot(subset_temp['alpha'], subset_temp['mean_return'], label=f'Temp={temp:.2f}', marker='o')\n",
    "            axes[1, col_index].fill_between(subset_temp['alpha'], subset_temp['min_return'], subset_temp['max_return'], alpha=0.2)\n",
    "    axes[1, col_index].set_xlabel('Learning Rate (alpha)')\n",
    "    axes[1, col_index].set_ylabel('Average Return')\n",
    "    axes[1, col_index].legend(title='Temperature')\n",
    "    axes[1, col_index].grid(True)\n",
    "\n",
    "plt.tight_layout()\n",
    "plt.show()"
   ]
  },
  {
   "cell_type": "markdown",
   "metadata": {},
   "source": [
    "## Graph 3: Learning curves\n",
    "\n",
    "Learning curves (mean and standard deviation computed based on the 10 runs) for the best\n",
    "parameter setting for each algorithm. X-axis shows the segment, Y-axis shows return over-\n",
    "time."
   ]
  },
  {
   "cell_type": "code",
   "execution_count": null,
   "metadata": {},
   "outputs": [],
   "source": []
  }
 ],
 "metadata": {
  "colab": {
   "provenance": []
  },
  "kernelspec": {
   "display_name": "Python 3 (ipykernel)",
   "language": "python",
   "name": "python3"
  },
  "language_info": {
   "codemirror_mode": {
    "name": "ipython",
    "version": 3
   },
   "file_extension": ".py",
   "mimetype": "text/x-python",
   "name": "python",
   "nbconvert_exporter": "python",
   "pygments_lexer": "ipython3",
   "version": "3.9.18"
  }
 },
 "nbformat": 4,
 "nbformat_minor": 4
}
