{
 "cells": [
  {
   "cell_type": "markdown",
   "metadata": {
    "id": "ALnFQQHn1QME"
   },
   "source": [
    "# COMP579 Assignment 3\n",
    "\n",
    "**Value-based methods with linear function approximation [40 points]**"
   ]
  },
  {
   "cell_type": "code",
   "execution_count": 1,
   "metadata": {
    "id": "VlHR8XcY483f"
   },
   "outputs": [],
   "source": [
    "import os\n",
    "import random\n",
    "import gymnasium as gym\n",
    "import numpy as np\n",
    "import pandas as pd\n",
    "\n",
    "from multiprocessing import Pool, cpu_count\n",
    "import matplotlib.pyplot as plt\n",
    "from itertools import product\n",
    "from tqdm.auto import tqdm\n",
    "import seaborn as sns\n",
    "\n",
    "import multiprocessing as mp"
   ]
  },
  {
   "cell_type": "code",
   "execution_count": 2,
   "metadata": {},
   "outputs": [],
   "source": [
    "# Helper functions\n",
    "def one_hot(a, num_classes):\n",
    "  return np.squeeze(np.eye(num_classes)[a.reshape(-1)])\n",
    "\n",
    "\n",
    "def softmax(x, temp=1.0):\n",
    "    \"\"\"\n",
    "    Compute the softmax of each element along an axis of X with temperature adjustment.\n",
    "    When temp is 0, the function returns an argmax-like result.\n",
    "\n",
    "    Parameters:\n",
    "    x (array_like): Input data.\n",
    "    temp (float, optional): Temperature parameter to adjust the sharpness of softmax. Default is 1.0.\n",
    "\n",
    "    Returns:\n",
    "    array_like: Softmax-transformed output with the same shape as input x.\n",
    "    \"\"\"\n",
    "    if temp == 0:\n",
    "        # Simulate argmax behavior for zero temperature\n",
    "        return np.equal(x, np.max(x, axis=-1, keepdims=True)).astype(float)\n",
    "    else:\n",
    "        # Adjust for temperature and improve numerical stability in one step\n",
    "        z = (x - np.max(x, axis=-1, keepdims=True)) / temp\n",
    "        top = np.exp(z)\n",
    "        bottom = np.sum(top, axis=-1, keepdims=True)\n",
    "        return top / bottom"
   ]
  },
  {
   "cell_type": "markdown",
   "metadata": {},
   "source": [
    "### Q Learner and Expected SARSA\n",
    "Implement Q-learning and Expected SARSA for both `MountainCar-v0` and `CartPole-v1` environments from the Gym suite using the following guidelines:\n",
    "\n",
    "- Use a linear function approximation for $Q$, that is, if $x$ is a vector representing the state and $\\theta$ a is the action vector, use $$Q(x, a) = \\sum^{d}_{i=1} θ_{a,i} x_i$$ where $\\theta$ are the parameters of the $Q$-function you\n",
    "need to learn, $d$ is the dimension of $x$ and $a \\in \\{1, \\cdots , m\\}$ is a discrete action."
   ]
  },
  {
   "cell_type": "code",
   "execution_count": 3,
   "metadata": {},
   "outputs": [],
   "source": [
    "class QLearner:\n",
    "    \"\"\"\n",
    "    A class representing the Q-learning algorithm.\n",
    "\n",
    "    Attributes:\n",
    "    env (gym.Env): The environment to interact with.\n",
    "    alpha (float): The learning rate.\n",
    "    gamma (float): The discount factor for future rewards.\n",
    "    Q (numpy.ndarray): The Q-table for storing state-action values.\n",
    "\n",
    "    Methods:\n",
    "    select_action(s, greedy=False): Selects an action based on the current policy.\n",
    "    update(s, a, r, s_prime, a_prime, done): Updates the Q-table based on the observed transition.\n",
    "    \"\"\"\n",
    "\n",
    "    def __init__(self, env, alpha, gamma, epsilon, input_size, action_size):\n",
    "        \"\"\"\n",
    "        Initializes the Q-learning agent.\n",
    "\n",
    "        Parameters:\n",
    "            env (gym.Env): The environment to interact with.\n",
    "            alpha (float): The learning rate.\n",
    "            gamma (float): The discount factor for future rewards.\n",
    "            epsilon (float): The exploration rate for epsilon-greedy action selection.\n",
    "            input_size (int): The size of the input space\n",
    "            action_size (int): The size of the action space\n",
    "        \"\"\"\n",
    "        self.env = env\n",
    "        self.input_size = input_size\n",
    "        self.action_size = action_size\n",
    "        self.alpha = alpha\n",
    "        self.gamma = gamma\n",
    "        self.epsilon = epsilon\n",
    "        \n",
    "        # Initialize Q-values uniformly between -0.001 and 0.001\n",
    "        self.theta = np.random.uniform(-0.001, 0.001, (input_size, action_size))\n",
    "\n",
    "    def select_action(self, s, greedy=False):\n",
    "        \"\"\"\n",
    "        Selects an action based on the current policy using epsilon-greedy method.\n",
    "\n",
    "        Parameters:\n",
    "            s (int): The current state.\n",
    "            greedy (bool): If True, overrides epsilon-greedy and selects the action with the highest Q-value.\n",
    "\n",
    "        Returns:\n",
    "            int: The selected action.\n",
    "        \"\"\"\n",
    "        if greedy or np.random.rand() < self.epsilon:\n",
    "            # With probability epsilon, choose a random allowed action\n",
    "            return np.random.choice(list(range(self.action_size)))\n",
    "        else:\n",
    "            # Otherwise, choose the action with the highest estimated Q-value among the allowed actions\n",
    "            Q_values = np.dot(s, self.theta)\n",
    "            return np.argmax(Q_values)\n",
    "\n",
    "    def update(self, s, a, r, s_prime, done):\n",
    "        \"\"\"\n",
    "        Updates the Q-table based on the observed transition using the Q-learning update rule.\n",
    "\n",
    "        Parameters:\n",
    "            s (int): The current state.\n",
    "            a (int): The action taken.\n",
    "            r (float): The reward received.\n",
    "            s_prime (int): The next state.\n",
    "            done (bool): Whether the episode has ended.\n",
    "        \"\"\"\n",
    "        # Compute the current estimate of Q(s, a)\n",
    "        current_Q = np.dot(s, self.theta[:, a])\n",
    "\n",
    "        # Best future Q-value for the next state\n",
    "        Q_prime = 0 if done else np.max(np.dot(s_prime, self.theta[:, a]))\n",
    "\n",
    "        # Compute the TD error\n",
    "        td_error = r + self.gamma * Q_prime - current_Q\n",
    "\n",
    "        # Update the weights for the taken action a\n",
    "        self.theta[:, a] += self.alpha * td_error * s\n"
   ]
  },
  {
   "attachments": {},
   "cell_type": "markdown",
   "metadata": {},
   "source": [
    "## Mountain Car\n",
    "\n",
    "The Mountain Car MDP is a deterministic MDP that consists of a car placed stochastically at the bottom of a sinusoidal valley, with the only possible actions being the accelerations that can be applied to the car in either direction. The goal of the MDP is to strategically accelerate the car to reach the goal state on top of the right hill. There are two versions of the mountain car domain in gymnasium: one with discrete actions and one with continuous. This version is the one with discrete actions.\n",
    "\n",
    "This MDP first appeared in Andrew Moore’s PhD Thesis (1990)\n",
    "\n",
    "|  |  |\n",
    "| ---- | ---- |\n",
    "| Action space | `Discrete(3)` |\n",
    "| Observation Space | `Box([-1.2 -0.07], [0.6 0.07], (2,), float32)` |\n",
    "| Import | `gymnasium.make(\"MountainCar-v0\")` |\n",
    "\n",
    "### Observation Space\n",
    "\n",
    "The observation is a ndarray with shape `(2,)` where the elements correspond to the following:\n",
    "\n",
    "| Num | Observation                               | Min   | Max  | Unit           |\n",
    "|-----|-------------------------------------------|-------|------|----------------|\n",
    "| 0   | position of the car along the x-axis      | -1.2  | 0.6  | position (m)   |\n",
    "| 1   | velocity of the car                       | -0.07 | 0.07 | velocity (v)   |\n",
    "\n",
    "### Action Space\n",
    "\n",
    "There are 3 discrete deterministic actions:\n",
    "\n",
    "- 0: Accelerate to the left\n",
    "- 1: Don’t accelerate\n",
    "- 2: Accelerate to the right\n",
    "\n",
    "### Transition Dynamics:\n",
    "\n",
    "Given an action, the mountain car follows the following transition dynamics:\n",
    "\n",
    "`velocity_{t+1} = velocity_t + (action - 1) * force - cos(3 * position_t) * gravity`\n",
    "\n",
    "`position_{t+1} = position_t + velocity_{t+1}`\n",
    "\n",
    "where `force = 0.001` and `gravity = 0.0025`. The collisions at either end are inelastic with the velocity set to 0 upon collision with the wall. The position is clipped to the range `[-1.2, 0.6]` and velocity is clipped to the range `[-0.07, 0.07]`.\n",
    "\n",
    "### Reward:\n",
    "\n",
    "The goal is to reach the flag placed on top of the right hill as quickly as possible, as such the agent is penalised with a reward of -1 for each timestep.\n",
    "\n",
    "### Starting State\n",
    "\n",
    "The position of the car is assigned a uniform random value in `[-0.6 , -0.4]`. The starting velocity of the car is always assigned to 0.\n",
    "\n",
    "### Episode End\n",
    "\n",
    "The episode ends if either of the following happens:\n",
    "\n",
    "- Termination: The position of the car is greater than or equal to 0.5 (the goal position on top of the right hill)\n",
    "- Truncation: The length of the episode is 200.\n"
   ]
  },
  {
   "cell_type": "code",
   "execution_count": 4,
   "metadata": {},
   "outputs": [],
   "source": [
    "mc_env = gym.make(\"MountainCar-v0\")"
   ]
  },
  {
   "cell_type": "code",
   "execution_count": 5,
   "metadata": {},
   "outputs": [],
   "source": [
    "s, info = mc_env.reset()"
   ]
  },
  {
   "cell_type": "markdown",
   "metadata": {},
   "source": [
    "### Tile-coding\n",
    "- Discretise the state space for both the environments using an appropriate tile-coding (see section 9.5.4 of the RL book http://incompleteideas.net/book/RLbook2020.pdf for how to do tilecoding).\n",
    "- It is generally recommended to use at most 10 tiles (bins) per state variable, but you are free to choose more tiles if it results in better performance.\n",
    "- It is easier to imagine tiling each dimension of the state-space independently, in that case, one tiling of $s_2$, for example, is just one way to make bins out of $s_2$.\n",
    "- So suppose the state-space is 2D so we have the state is $s = (s_1 , s_2)$.\n",
    "- Suppose we have 2 tilings of 5 tiles (bins) each per dimension of $s$, idea is to convert the state representation from $s$ to the $2*2*5=20$ dim vector:\n",
    "$$x = (x_{1,1,1} , x_{1,1,2} , \\ldots , x_{1,1,5} , x_{1,2,1}, \\ldots , x_{1,2,5} , x_{2,1,1} , x_{2,1,2} , \\ldots , x_{2,1,5} , x_{2,2,1} , \\ldots , x_{2,2,5}),$$\n",
    "which contains only 1s and 0s where $x_{i,j,k} = 1$ iff $s_i$ is in tile $k$ of the $j$-th tiling (of the $i$-th state dimension), and 0 otherwise."
   ]
  },
  {
   "cell_type": "code",
   "execution_count": 24,
   "metadata": {},
   "outputs": [],
   "source": [
    "class TileCoder:\n",
    "    def __init__(self, x_min, x_max, v_min, v_max, x_bins, v_bins, num_frames):\n",
    "        self.x_min = x_min\n",
    "        self.x_max = x_max\n",
    "        self.v_min = v_min\n",
    "        self.v_max = v_max\n",
    "        self.x_bins = x_bins\n",
    "        self.v_bins = v_bins\n",
    "        self.num_frames = num_frames\n",
    "\n",
    "        # Calculate the size of a single bin across each dimension\n",
    "        self.x_unit_size = (x_max - x_min) / x_bins\n",
    "        self.v_unit_size = (v_max - v_min) / v_bins\n",
    "\n",
    "        # Generate the base frames\n",
    "        self.x_frames = [np.linspace(x_min, x_max, x_bins + 1) + self.x_unit_size * (i - num_frames) / num_frames for i in range(num_frames * 2)]\n",
    "        self.v_frames = [np.linspace(v_min, v_max, v_bins + 1) + self.v_unit_size * (i - num_frames) / num_frames for i in range(num_frames * 2)]\n",
    "\n",
    "    def get_active_tiles(self, x, v):\n",
    "        tol = 1e-4\n",
    "        assert x >= self.x_min-tol and x <= self.x_max+tol, f\"x={x} is not in range [{self.x_min}, {self.x_max}]\"\n",
    "        assert v >= self.v_min-tol and v <= self.v_max+tol, f\"v={v} is not in range [{self.v_min}, {self.v_max}]\"\n",
    "        x_frame_indices = [np.searchsorted(frame, x) for frame in self.x_frames]\n",
    "        v_frame_indices = [np.searchsorted(frame, v) for frame in self.v_frames]\n",
    "        \n",
    "        x_one_hot_frames = np.array([\n",
    "            one_hot(index, self.v_bins+2)[1:-1]  # we +2 to add an index for the left and right and then remove it with [1:-1]\n",
    "            for index in x_frame_indices\n",
    "        ])\n",
    "        v_one_hot_frames = np.array([\n",
    "            one_hot(index, self.v_bins+2)[1:-1]  # we +2 to add an index for the left and right and then remove it with [1:-1]\n",
    "            for index in v_frame_indices\n",
    "        ])\n",
    "        return x_one_hot_frames.flatten()\n",
    "\n",
    "    def plot_frames(self):\n",
    "        plt.figure(figsize=(8, 6))\n",
    "        colors = plt.cm.viridis(np.linspace(0, 1, len(self.x_frames)))  # Using a colormap\n",
    "\n",
    "        for i, frame in enumerate(zip(self.x_frames, self.v_frames)):\n",
    "            x_frame, v_frame = frame\n",
    "            X, V = np.meshgrid(x_frame, v_frame)\n",
    "            plt.plot(X, V, 'o-', color=colors[i % len(self.x_frames)], markersize=2, linewidth=1, alpha=0.7)\n",
    "            plt.plot(X.T, V.T, 'o-', color=colors[i % len(self.x_frames)], markersize=2, linewidth=1, alpha=0.7)\n",
    "\n",
    "        # Drawing the boundary in red\n",
    "        plt.plot([self.x_min, self.x_max, self.x_max, self.x_min, self.x_min], [self.v_min, self.v_min, self.v_max, self.v_max, self.v_min], 'r-', linewidth=2)\n",
    "\n",
    "        plt.title('Tile-coding plot')\n",
    "        plt.xlabel('Position (x)')\n",
    "        plt.ylabel('Velocity (v)')\n",
    "        plt.grid(True)\n",
    "        plt.show()\n",
    "\n",
    "# Example usage:\n",
    "tile_coder = TileCoder(\n",
    "    x_min = -1.2,\n",
    "    x_max = 0.6,\n",
    "    v_min = -0.07,\n",
    "    v_max = 0.07,\n",
    "    x_bins = 4,\n",
    "    v_bins = 6,\n",
    "    num_frames = 3\n",
    ")"
   ]
  },
  {
   "cell_type": "code",
   "execution_count": 25,
   "metadata": {},
   "outputs": [
    {
     "data": {
      "text/plain": [
       "36"
      ]
     },
     "execution_count": 25,
     "metadata": {},
     "output_type": "execute_result"
    }
   ],
   "source": [
    "input_size = tile_coder.get_active_tiles(0.1, 0.04).shape[0]\n",
    "input_size"
   ]
  },
  {
   "cell_type": "markdown",
   "metadata": {},
   "source": [
    "### Plot the Tile-coding\n",
    "\n",
    "We plot the tile-coding we generated to check that we got it right"
   ]
  },
  {
   "cell_type": "code",
   "execution_count": 27,
   "metadata": {},
   "outputs": [
    {
     "data": {
      "image/png": "[encoded data removed]",
      "text/plain": [
       "<Figure size 800x600 with 1 Axes>"
      ]
     },
     "metadata": {},
     "output_type": "display_data"
    }
   ],
   "source": [
    "tile_coder.plot_frames()"
   ]
  },
  {
   "cell_type": "markdown",
   "metadata": {},
   "source": [
    "### Hyperparameters\n",
    "- Initalise the parameters for the value function uniformly between −0.001 and \n",
    "0.001.\n",
    "- Use an $\\varepsilon$-greedy policy with three choices of $\\varepsilon$ and step-size parameters 1/4, 1/8, 1/16 and\n",
    "run 50 learning trials with different initialisations for $Q$, each having 1000 episodes, for each\n",
    "configuration. (That means 3 configs * 50 runs * 1000 episodes).\n"
   ]
  },
  {
   "cell_type": "code",
   "execution_count": 28,
   "metadata": {},
   "outputs": [],
   "source": [
    "models = [QLearner(mc_env, alpha=0.1, gamma=0.9, epsilon=eps, input_size=input_size, action_size=3) for eps in [1/4, 1/8, 1/16]]"
   ]
  },
  {
   "cell_type": "code",
   "execution_count": 29,
   "metadata": {},
   "outputs": [],
   "source": [
    "def run_trial(env, model, tile_coder, n_episodes=1000):\n",
    "    train_history = []\n",
    "\n",
    "    for episode in tqdm(range(n_episodes)):\n",
    "        s, info = env.reset()\n",
    "        s = tile_coder.get_active_tiles(*s)\n",
    "        done = False\n",
    "        total_reward = 0\n",
    "        segment = 0\n",
    "\n",
    "        while not done and segment < 200:\n",
    "            a = model.select_action(s)\n",
    "            s_prime, r, done, trunc, info = env.step(a)\n",
    "            s_prime = tile_coder.get_active_tiles(*s_prime)\n",
    "            model.update(s, a, r, s_prime, done)\n",
    "            s = s_prime\n",
    "            total_reward += r\n",
    "            segment += 1\n",
    "\n",
    "        train_history.append({\n",
    "            'model_name': 'Q-Learning',\n",
    "            'episode': episode,\n",
    "            'num_segments': segment,\n",
    "            'total_reward': total_reward,\n",
    "            'alpha': model.alpha,\n",
    "            'gamma': model.gamma,\n",
    "            'epsilon': model.epsilon\n",
    "        })\n",
    "\n",
    "    return model, pd.DataFrame(train_history)\n"
   ]
  },
  {
   "cell_type": "code",
   "execution_count": 36,
   "metadata": {},
   "outputs": [
    {
     "data": {
      "text/plain": [
       "(array([4., 4., 2., 6., 3., 2., 3., 2., 3., 4., 2., 1., 2., 2., 4., 6., 4.,\n",
       "        5., 5., 5., 2., 5., 4., 2., 7., 4., 3., 5., 2., 5.]),\n",
       " array([-9.99373615e-04, -9.33914309e-04, -8.68455004e-04, -8.02995698e-04,\n",
       "        -7.37536392e-04, -6.72077087e-04, -6.06617781e-04, -5.41158475e-04,\n",
       "        -4.75699170e-04, -4.10239864e-04, -3.44780558e-04, -2.79321253e-04,\n",
       "        -2.13861947e-04, -1.48402641e-04, -8.29433355e-05, -1.74840298e-05,\n",
       "         4.79752759e-05,  1.13434582e-04,  1.78893887e-04,  2.44353193e-04,\n",
       "         3.09812499e-04,  3.75271804e-04,  4.40731110e-04,  5.06190416e-04,\n",
       "         5.71649721e-04,  6.37109027e-04,  7.02568333e-04,  7.68027638e-04,\n",
       "         8.33486944e-04,  8.98946250e-04,  9.64405555e-04]),\n",
       " <BarContainer object of 30 artists>)"
      ]
     },
     "execution_count": 36,
     "metadata": {},
     "output_type": "execute_result"
    },
    {
     "data": {
      "image/png": "[encoded data removed]",
      "text/plain": [
       "<Figure size 640x480 with 1 Axes>"
      ]
     },
     "metadata": {},
     "output_type": "display_data"
    }
   ],
   "source": [
    "model = QLearner(mc_env, alpha=0.01, gamma=0.9, epsilon=0.1, input_size=input_size, action_size=3)\n",
    "plt.hist(model.theta.flatten(), bins=30)"
   ]
  },
  {
   "cell_type": "code",
   "execution_count": 37,
   "metadata": {},
   "outputs": [
    {
     "data": {
      "application/vnd.jupyter.widget-view+json": {
       "model_id": "e4d50ac2e47a4e358aa9e676995ce547",
       "version_major": 2,
       "version_minor": 0
      },
      "text/plain": [
       "  0%|          | 0/1000 [00:00<?, ?it/s]"
      ]
     },
     "metadata": {},
     "output_type": "display_data"
    },
    {
     "data": {
      "text/plain": [
       "(array([18., 10.,  7.,  7.,  0.,  1.,  1.,  5.,  2., 57.]),\n",
       " array([-1.98217597e+00, -1.78386383e+00, -1.58555169e+00, -1.38723954e+00,\n",
       "        -1.18892740e+00, -9.90615260e-01, -7.92303118e-01, -5.93990976e-01,\n",
       "        -3.95678834e-01, -1.97366692e-01,  9.45449512e-04]),\n",
       " <BarContainer object of 10 artists>)"
      ]
     },
     "execution_count": 37,
     "metadata": {},
     "output_type": "execute_result"
    },
    {
     "data": {
      "image/png": "[encoded data removed]",
      "text/plain": [
       "<Figure size 640x480 with 1 Axes>"
      ]
     },
     "metadata": {},
     "output_type": "display_data"
    }
   ],
   "source": [
    "trained_model, trial_history = run_trial(\n",
    "    mc_env, \n",
    "    model, \n",
    "    tile_coder, \n",
    "    n_episodes=1000\n",
    ")\n",
    "\n",
    "plt.hist(trained_model.theta.flatten())"
   ]
  },
  {
   "cell_type": "code",
   "execution_count": 38,
   "metadata": {},
   "outputs": [
    {
     "data": {
      "text/plain": [
       "<Axes: xlabel='episode'>"
      ]
     },
     "execution_count": 38,
     "metadata": {},
     "output_type": "execute_result"
    },
    {
     "data": {
      "image/png": "[encoded data removed]",
      "text/plain": [
       "<Figure size 640x480 with 1 Axes>"
      ]
     },
     "metadata": {},
     "output_type": "display_data"
    }
   ],
   "source": [
    "trial_history.plot(kind='line', x='episode', y='total_reward')"
   ]
  },
  {
   "cell_type": "markdown",
   "metadata": {},
   "source": [
    "### Plots\n",
    "- Plot the average performance of the policy on the Y-axis and the number of episodes on the\n",
    "X-axis. The plots should also include the interquantile range of the 50 independent runs. Note\n",
    "that you are expected to plot 9 results corresponding to each ϵ and step-size parameters for\n",
    "both the environments, and document your findings in a separate pdf along with the results.\n",
    "Explain why one algorithm performs better than the other or why a particular configuration\n",
    "results in better performance."
   ]
  },
  {
   "cell_type": "markdown",
   "metadata": {},
   "source": [
    "### Rules\n",
    "- Implement all the methods without using any automatic differentiation package. It is highly recommended that you undertake the development of software independently. Furthermore, it is essential to appropriately cite any resources or materials sourced from the\n",
    "internet in your work."
   ]
  },
  {
   "cell_type": "markdown",
   "metadata": {
    "id": "Sazk2zxT8jD7"
   },
   "source": [
    "# Write your experiment code below"
   ]
  },
  {
   "cell_type": "code",
   "execution_count": 7,
   "metadata": {},
   "outputs": [],
   "source": [
    "! rm -rf data/*.csv"
   ]
  },
  {
   "cell_type": "code",
   "execution_count": null,
   "metadata": {},
   "outputs": [
    {
     "data": {
      "application/vnd.jupyter.widget-view+json": {
       "model_id": "7cb9111bde3840b4812636c28afaef50",
       "version_major": 2,
       "version_minor": 0
      },
      "text/plain": [
       "  0%|          | 0/1280 [00:00<?, ?it/s]"
      ]
     },
     "metadata": {},
     "output_type": "display_data"
    }
   ],
   "source": [
    "%%time\n",
    "if not os.path.exists('data/train_df.csv') or not os.path.exists('data/test_df.csv'):\n",
    "    train_df, test_df = run_parallel_trials(trial_params)\n",
    "    train_df.to_csv('data/train_df.csv', index=False)\n",
    "    test_df.to_csv('data/test_df.csv', index=False)\n",
    "else:\n",
    "    train_df = pd.read_csv('data/train_df.csv')\n",
    "    test_df = pd.read_csv('data/test_df.csv')"
   ]
  },
  {
   "cell_type": "code",
   "execution_count": null,
   "metadata": {},
   "outputs": [],
   "source": [
    "train_df"
   ]
  },
  {
   "cell_type": "code",
   "execution_count": null,
   "metadata": {},
   "outputs": [],
   "source": [
    "test_df"
   ]
  },
  {
   "cell_type": "code",
   "execution_count": null,
   "metadata": {},
   "outputs": [],
   "source": [
    "good_runs = train_df[train_df.step == train_df.step.max()].sort_values(\"return\", ascending=False).head(10).run.values"
   ]
  },
  {
   "cell_type": "code",
   "execution_count": null,
   "metadata": {},
   "outputs": [],
   "source": [
    "es_df = train_df[train_df.trial < 1]\n",
    "\n",
    "# Assuming `df` is your DataFrame with the data provided\n",
    "# Here we group by 'run' and then plot each group\n",
    "groups = es_df.groupby(['run', 'trial'])\n",
    "\n",
    "plt.figure(figsize=(15, 10))  # Set the figure size as desired\n",
    "\n",
    "for name, group in groups:\n",
    "    model_name, alpha, temp, trial = group.reset_index(drop=True).loc[0,['model_name', 'alpha', 'temp', 'trial']].values\n",
    "    label = f'model={model_name}, alpha={alpha:.2f}, temp={temp:.2f}'\n",
    "    plt.plot(group['step'], group['return'], marker='o', linestyle='-', label=label)\n",
    "\n",
    "plt.xlabel('Step Number')\n",
    "plt.ylabel('Return')\n",
    "plt.title('Return over Steps Grouped by Run Number')\n",
    "plt.legend(title='Run Number')\n",
    "plt.show()"
   ]
  },
  {
   "cell_type": "code",
   "execution_count": null,
   "metadata": {},
   "outputs": [],
   "source": [
    "es_df = test_df[test_df.trial < 1]\n",
    "\n",
    "# Assuming `df` is your DataFrame with the data provided\n",
    "# Here we group by 'run' and then plot each group\n",
    "groups = es_df.groupby(['run', 'trial'])\n",
    "\n",
    "plt.figure(figsize=(15, 10))  # Set the figure size as desired\n",
    "\n",
    "for name, group in groups:\n",
    "    model_name, alpha, temp, trial = group.reset_index(drop=True).loc[0,['model_name', 'alpha', 'temp', 'trial']].values\n",
    "    label = f'model={model_name}, alpha={alpha:.2f}, temp={temp:.2f}'\n",
    "    plt.plot(group['step'], group['return'], marker='o', linestyle='-', label=label)\n",
    "\n",
    "plt.xlabel('Step Number')\n",
    "plt.ylabel('Return')\n",
    "plt.title('Return over Steps Grouped by Run Number')\n",
    "plt.legend(title='Run Number')\n",
    "plt.show()"
   ]
  },
  {
   "cell_type": "markdown",
   "metadata": {},
   "source": [
    "## The graphs\n",
    "\n",
    "### Graph 1\n",
    "\n",
    "One graph that shows the effect of the parameters on the final **training** performance.\n",
    "\n",
    "The x-axis shows the different parameters (e.g. learning rate), and the y-axis shows the return\n",
    "of the agent (averaged over the last 10 training episodes and the 10 runs); note that this will\n",
    "typically end up as an upside-down U.\n",
    "    \n",
    "**For each algorithm**, the graph should have at least 3 lines (e.g. 3 temperature values) corre-\n",
    "sponding to the choices of the other hyperparameter. There should be at least 6 lines in the\n",
    "graph, and at least 18 different points. Also plot the uncertainty using shading (e.g. using the\n",
    "min and the max return of the 10 runs)"
   ]
  },
  {
   "cell_type": "code",
   "execution_count": null,
   "metadata": {},
   "outputs": [],
   "source": [
    "# Assuming `df` is your DataFrame\n",
    "# Step 1: Filter to only include the last 10 training episodes of each segment\n",
    "df_training_last_10 = train_df[(train_df['episode'] > n_episodes - 11) & (train_df['segment'] == n_segments-1)]\n",
    "\n",
    "# Step 2: Group by model, hyperparameters, and segment, then calculate mean return for the last 10 episodes\n",
    "grouped_means = df_training_last_10.groupby(['model_name', 'alpha', 'temp', 'run', 'trial', 'segment'])['return'].mean().reset_index()\n",
    "\n",
    "# Step 3: Further aggregate across trials to get the mean, min, and max returns for each hyperparameter combination\n",
    "final_stats = grouped_means.groupby(['model_name', 'alpha', 'temp']).agg(\n",
    "    mean_return=('return', 'mean'),\n",
    "    min_return=('return', 'min'),\n",
    "    max_return=('return', 'max')\n",
    ").reset_index()\n",
    "\n",
    "# Setup the figure and axes for a 2x2 grid of plots\n",
    "fig, axes = plt.subplots(nrows=2, ncols=2, figsize=(20, 14), sharey=True)\n",
    "\n",
    "# Titles for each column (Sarsa vs Expected Sarsa)\n",
    "column_titles = {'sarsa': 'Sarsa', 'expected_sarsa': 'Expected Sarsa'}\n",
    "# Titles for the rows based on the x-axis variable\n",
    "row_titles = ['Alpha', 'Temperature']\n",
    "\n",
    "# Assuming final_stats is correctly structured and contains 'model_name' column with 'Sarsa' and 'Expected Sarsa'\n",
    "for col_index, model in enumerate(column_titles):\n",
    "    model_data = final_stats[final_stats['model_name'] == model]\n",
    "\n",
    "    # First row plots: Alpha values\n",
    "    unique_alphas = model_data['alpha'].unique()\n",
    "    for alpha in unique_alphas:\n",
    "        subset_alpha = model_data[model_data['alpha'] == alpha].sort_values(by='temp')\n",
    "        if not subset_alpha.empty:  # Check if subset is not empty\n",
    "            axes[0, col_index].plot(subset_alpha['temp'], subset_alpha['mean_return'], label=f'Alpha={alpha:.2f}', marker='o')\n",
    "            axes[0, col_index].fill_between(subset_alpha['temp'], subset_alpha['min_return'], subset_alpha['max_return'], alpha=0.2)\n",
    "    axes[0, col_index].set_title(column_titles[model])\n",
    "    axes[0, col_index].set_xlabel('Temperature')\n",
    "    axes[0, col_index].set_ylabel('Average Return')\n",
    "    axes[0, col_index].legend(title='Learning Rate (alpha)')\n",
    "    axes[0, col_index].grid(True)\n",
    "\n",
    "    # Second row plots: Temperature values\n",
    "    unique_temps = model_data['temp'].unique()\n",
    "    for temp in unique_temps:\n",
    "        subset_temp = model_data[model_data['temp'] == temp].sort_values(by='alpha')\n",
    "        if not subset_temp.empty:  # Check if subset is not empty\n",
    "            axes[1, col_index].plot(subset_temp['alpha'], subset_temp['mean_return'], label=f'Temp={temp:.2f}', marker='o')\n",
    "            axes[1, col_index].fill_between(subset_temp['alpha'], subset_temp['min_return'], subset_temp['max_return'], alpha=0.2)\n",
    "    axes[1, col_index].set_xlabel('Learning Rate (alpha)')\n",
    "    axes[1, col_index].set_ylabel('Average Return')\n",
    "    axes[1, col_index].legend(title='Temperature')\n",
    "    axes[1, col_index].grid(True)\n",
    "\n",
    "plt.tight_layout()\n",
    "plt.show()"
   ]
  },
  {
   "cell_type": "markdown",
   "metadata": {},
   "source": [
    "## Graph 2: Test performance\n",
    "\n",
    "The same graph that instead shows the effect of the parameters on the final testing performance. The y-axis should now show the return during the final testing episode, averaged over the 10 runs."
   ]
  },
  {
   "cell_type": "code",
   "execution_count": null,
   "metadata": {},
   "outputs": [],
   "source": [
    "# Assuming `df` is your DataFrame\n",
    "# Step 1: Filter to only include the last 10 training episodes of each segment\n",
    "df_test_last_10 = test_df.loc[test_df.segment == n_segments - 1, :]\n",
    "\n",
    "# Step 2: Group by model, hyperparameters, and segment, then calculate mean return for the last 10 episodes\n",
    "grouped_means = df_test_last_10.groupby(['model_name', 'alpha', 'temp', 'run', 'trial', 'segment'])['return'].mean().reset_index()\n",
    "\n",
    "# Step 3: Further aggregate across trials to get the mean, min, and max returns for each hyperparameter combination\n",
    "final_stats = grouped_means.groupby(['model_name', 'alpha', 'temp']).agg(\n",
    "    mean_return=('return', 'mean'),\n",
    "    min_return=('return', 'min'),\n",
    "    max_return=('return', 'max')\n",
    ").reset_index()\n",
    "\n",
    "# Setup the figure and axes for a 2x2 grid of plots\n",
    "fig, axes = plt.subplots(nrows=2, ncols=2, figsize=(20, 14), sharey=True)\n",
    "\n",
    "# Titles for each column (Sarsa vs Expected Sarsa)\n",
    "column_titles = {'sarsa': 'Sarsa', 'expected_sarsa': 'Expected Sarsa'}\n",
    "# Titles for the rows based on the x-axis variable\n",
    "row_titles = ['Alpha', 'Temperature']\n",
    "\n",
    "# Assuming final_stats is correctly structured and contains 'model_name' column with 'Sarsa' and 'Expected Sarsa'\n",
    "for col_index, model in enumerate(column_titles):\n",
    "    model_data = final_stats[final_stats['model_name'] == model]\n",
    "\n",
    "    # First row plots: Alpha values\n",
    "    unique_alphas = model_data['alpha'].unique()\n",
    "    for alpha in unique_alphas:\n",
    "        subset_alpha = model_data[model_data['alpha'] == alpha].sort_values(by='temp')\n",
    "        if not subset_alpha.empty:  # Check if subset is not empty\n",
    "            axes[0, col_index].plot(subset_alpha['temp'], subset_alpha['mean_return'], label=f'Alpha={alpha:.2f}', marker='o')\n",
    "            axes[0, col_index].fill_between(subset_alpha['temp'], subset_alpha['min_return'], subset_alpha['max_return'], alpha=0.2)\n",
    "    axes[0, col_index].set_title(column_titles[model])\n",
    "    axes[0, col_index].set_xlabel('Temperature')\n",
    "    axes[0, col_index].set_ylabel('Average Return')\n",
    "    axes[0, col_index].legend(title='Learning Rate (alpha)')\n",
    "    axes[0, col_index].grid(True)\n",
    "\n",
    "    # Second row plots: Temperature values\n",
    "    unique_temps = model_data['temp'].unique()\n",
    "    for temp in unique_temps:\n",
    "        subset_temp = model_data[model_data['temp'] == temp].sort_values(by='alpha')\n",
    "        if not subset_temp.empty:  # Check if subset is not empty\n",
    "            axes[1, col_index].plot(subset_temp['alpha'], subset_temp['mean_return'], label=f'Temp={temp:.2f}', marker='o')\n",
    "            axes[1, col_index].fill_between(subset_temp['alpha'], subset_temp['min_return'], subset_temp['max_return'], alpha=0.2)\n",
    "    axes[1, col_index].set_xlabel('Learning Rate (alpha)')\n",
    "    axes[1, col_index].set_ylabel('Average Return')\n",
    "    axes[1, col_index].legend(title='Temperature')\n",
    "    axes[1, col_index].grid(True)\n",
    "\n",
    "plt.tight_layout()\n",
    "plt.show()"
   ]
  },
  {
   "cell_type": "markdown",
   "metadata": {},
   "source": [
    "## Graph 3: Learning curves\n",
    "\n",
    "Learning curves (mean and standard deviation computed based on the 10 runs) for the best\n",
    "parameter setting for each algorithm. X-axis shows the segment, Y-axis shows return over-\n",
    "time."
   ]
  },
  {
   "cell_type": "code",
   "execution_count": null,
   "metadata": {},
   "outputs": [],
   "source": []
  }
 ],
 "metadata": {
  "colab": {
   "provenance": []
  },
  "kernelspec": {
   "display_name": "Python 3 (ipykernel)",
   "language": "python",
   "name": "python3"
  },
  "language_info": {
   "codemirror_mode": {
    "name": "ipython",
    "version": 3
   },
   "file_extension": ".py",
   "mimetype": "text/x-python",
   "name": "python",
   "nbconvert_exporter": "python",
   "pygments_lexer": "ipython3",
   "version": "3.9.18"
  }
 },
 "nbformat": 4,
 "nbformat_minor": 4
}
